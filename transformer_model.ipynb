{
 "cells": [
  {
   "cell_type": "markdown",
   "id": "4261e7ce",
   "metadata": {},
   "source": [
    "# **Transformer model**\n",
    "From query groumd view images generate saellite images (natural and segmented)"
   ]
  }
 ],
 "metadata": {
  "language_info": {
   "name": "python"
  }
 },
 "nbformat": 4,
 "nbformat_minor": 5
}
