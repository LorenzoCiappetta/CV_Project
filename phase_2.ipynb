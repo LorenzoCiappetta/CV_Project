{
  "cells": [
    {
      "cell_type": "markdown",
      "id": "BAYcDP2PHM-C",
      "metadata": {
        "id": "BAYcDP2PHM-C"
      },
      "source": [
        "# **Second Model**\n",
        "(Based on current understanding of task)"
      ]
    },
    {
      "cell_type": "code",
      "source": [
        "%pip install pytorch_lightning -q"
      ],
      "metadata": {
        "id": "2JUgnfMS_pH_"
      },
      "id": "2JUgnfMS_pH_",
      "execution_count": 6,
      "outputs": []
    },
    {
      "cell_type": "code",
      "source": [
        "import torch, torchvision\n",
        "from torch import nn\n",
        "from torch.nn import functional as F\n",
        "from torchvision import models\n",
        "from torchvision import transforms\n",
        "from torch.utils.data import Dataset\n",
        "from torch.utils.data import DataLoader\n",
        "from sklearn.model_selection import train_test_split\n",
        "import numpy as np\n",
        "from PIL import Image\n",
        "import random"
      ],
      "metadata": {
        "id": "HiwN_wEO9oZ1"
      },
      "id": "HiwN_wEO9oZ1",
      "execution_count": 1,
      "outputs": []
    },
    {
      "cell_type": "code",
      "source": [
        "import pytorch_lightning as pylight\n",
        "from pytorch_lightning import Trainer\n",
        "from pytorch_lightning.callbacks import ModelCheckpoint"
      ],
      "metadata": {
        "id": "4UEJ6TKr_obR"
      },
      "id": "4UEJ6TKr_obR",
      "execution_count": 7,
      "outputs": []
    },
    {
      "cell_type": "code",
      "source": [
        "device = torch.device('cuda' if torch.cuda.is_available() else 'cpu')\n",
        "print(device)"
      ],
      "metadata": {
        "id": "8PhxdHtB94nB",
        "colab": {
          "base_uri": "https://localhost:8080/"
        },
        "outputId": "378acf12-0526-4293-c1c0-182e10ef87d8"
      },
      "id": "8PhxdHtB94nB",
      "execution_count": 8,
      "outputs": [
        {
          "output_type": "stream",
          "name": "stdout",
          "text": [
            "cpu\n"
          ]
        }
      ]
    },
    {
      "cell_type": "markdown",
      "source": [
        "## Dataset"
      ],
      "metadata": {
        "id": "e7pt362n98AA"
      },
      "id": "e7pt362n98AA"
    },
    {
      "cell_type": "code",
      "source": [
        "# Define color-to-class mapping\n",
        "color_map = {\n",
        "    (255, 255, 255): 0,   # white -> class 0\n",
        "    (255, 0, 0): 1,       # red -> class 1\n",
        "    (0, 0, 255): 2,       # blue -> class 2\n",
        "    (0, 255, 0): 3,       # green -> class 3\n",
        "    (255, 255, 0): 4,     # yellow -> class 4\n",
        "    (0, 255, 255): 5,     # cyan -> class 5\n",
        "\n",
        "    # pixels that are not in previous classes are considered 0\n",
        "    (255, 0, 255): 0,\n",
        "    (255, 255, 255): 0\n",
        "}\n",
        "\n",
        "\n",
        "def rgb_to_label(rgb_image):\n",
        "    \"\"\"Convert RGB image to class index tensor\"\"\"\n",
        "\n",
        "    # Convert to numpy array\n",
        "    np_image = np.array(rgb_image)\n",
        "    # manage different colors\n",
        "    np_image = np.where(np_image < 128, 0, 255)\n",
        "    # Create empty label map\n",
        "    label_map = np.zeros((np_image.shape[0], np_image.shape[1]), dtype=np.int64)\n",
        "\n",
        "    # Map colors to class indices\n",
        "    for color, class_idx in color_map.items():\n",
        "        color_arr = np.array(color)\n",
        "        mask = (np_image == color_arr).all(axis=-1)\n",
        "        label_map[mask] = class_idx\n",
        "\n",
        "    return torch.from_numpy(label_map).unsqueeze(0)\n",
        "\n",
        "\n",
        "# path = '/content/drive/MyDrive/CVUSA_subset/polarmap/segmap/output0000008.png'\n",
        "# img = Image.open(path)\n",
        "# img_np = np.array(img)\n",
        "# print(img_np.shape)     # (128, 512, 3)\n",
        "\n",
        "# res = rgb_to_label(img)\n",
        "# print(res)\n",
        "# print(res.shape)"
      ],
      "metadata": {
        "id": "zhtuH40S9-l6"
      },
      "id": "zhtuH40S9-l6",
      "execution_count": 9,
      "outputs": []
    },
    {
      "cell_type": "code",
      "source": [
        "class CVUSADataset(torch.utils.data.Dataset):\n",
        "    def __init__(self, dataset_dir, triplet_list, img_size=224, train=False, add_dir = \"\"):\n",
        "        self.dataset_dir = dataset_dir\n",
        "        self.triplet_list = triplet_list\n",
        "        self.img_size = img_size\n",
        "        self.add_dir = add_dir\n",
        "\n",
        "        # transformations with data augmentation\n",
        "        if train:\n",
        "            # For ground view images\n",
        "            self.ground_transform = transforms.Compose([\n",
        "                transforms.RandomHorizontalFlip(p=0.5),\n",
        "                transforms.RandomRotation(10),\n",
        "                transforms.GaussianBlur(kernel_size=5, sigma=(0.1, 2.0)),\n",
        "                transforms.Resize((img_size, img_size)),\n",
        "                transforms.ToTensor(),\n",
        "                transforms.Normalize(mean=[0.485, 0.456, 0.406], std=[0.229, 0.224, 0.225])     # standard ImageNet normalization\n",
        "            ])\n",
        "        else:\n",
        "            # For ground view images\n",
        "            self.ground_transform = transforms.Compose([\n",
        "                transforms.Resize((img_size, img_size)),\n",
        "                transforms.ToTensor(),\n",
        "                transforms.Normalize(mean=[0.485, 0.456, 0.406], std=[0.229, 0.224, 0.225])     # standard ImageNet normalization\n",
        "            ])\n",
        "\n",
        "\n",
        "        # For aerial images\n",
        "        self.aerial_transform = transforms.Compose([\n",
        "            transforms.Resize((img_size, img_size)),\n",
        "            transforms.ToTensor(),\n",
        "            transforms.Normalize(mean=[0.485, 0.456, 0.406], std=[0.229, 0.224, 0.225])     # standard ImageNet normalization\n",
        "        ])\n",
        "\n",
        "        # For aerial segmentation maps\n",
        "        self.segmentation_transform = transforms.Compose([\n",
        "            transforms.Resize((img_size, img_size), interpolation=transforms.InterpolationMode.NEAREST),\n",
        "            transforms.Lambda(rgb_to_label),\n",
        "            transforms.Lambda(lambda x: x.squeeze(0).long())  # (H, W) int64 tensor\n",
        "        ])\n",
        "\n",
        "\n",
        "    def __len__(self):\n",
        "        return len(self.triplet_list)\n",
        "\n",
        "    def __getitem__(self, idx):\n",
        "        ground_rel, aerial_rel, seg_rel = self.triplet_list[idx]\n",
        "\n",
        "        max_retries = 3\n",
        "        for attempt in range(max_retries):\n",
        "            try:\n",
        "                # Load images\n",
        "                ground_img = Image.open(self.dataset_dir + ground_rel).convert('RGB')\n",
        "                aerial_img = Image.open(self.dataset_dir + aerial_rel).convert('RGB')\n",
        "                synth_img = Image.open((self.dataset_dir + \"generated_images/generated_images_model_1/\"+self.add_dir+\"/segmap_predictions/seg_pred_\"+ground_rel.split(\"/\")[-1].split(\".\")[0]+\".png\").strip()).convert('RGB')\n",
        "                seg_synth_img = Image.open((self.dataset_dir + \"generated_images/generated_images_model_1/\"+self.add_dir+\"/aerial_predictions/aerial_pred_\"+ground_rel.split(\"/\")[-1].split(\".\")[0]+\".png\").strip()).convert('RGB')\n",
        "\n",
        "                # Break if successful\n",
        "                break\n",
        "            except Exception as e:\n",
        "                print(f\"Error loading images for index {idx}: {e}\")\n",
        "                if attempt == max_retries - 1:\n",
        "                    raise e\n",
        "\n",
        "\n",
        "        # Apply transforms\n",
        "        ground_tensor = self.ground_transform(ground_img).to(dtype=torch.float32)\n",
        "        aerial_tensor = self.aerial_transform(aerial_img).to(dtype=torch.float32)\n",
        "        synth_tensor = self.aerial_transform(synth_img).to(dtype=torch.float32)\n",
        "        seg_synth_tensor = self.segmentation_transform(seg_synth_img).to(dtype=torch.float32)\n",
        "\n",
        "                              # candidate    # generated   # segmented generated\n",
        "        return ground_tensor, aerial_tensor, synth_tensor, seg_synth_tensor  # ground, aerial, synthetic_aerial, segmented_aerial"
      ],
      "metadata": {
        "id": "bCiMO8oYIvai"
      },
      "id": "bCiMO8oYIvai",
      "execution_count": 10,
      "outputs": []
    },
    {
      "cell_type": "code",
      "source": [
        "def read_triplets_csv(csv_path):\n",
        "    \"\"\"Reads CSV file into list of (aerial, ground, seg) triplets\"\"\"\n",
        "    triplets = []\n",
        "    with open(csv_path, 'r') as f:\n",
        "        for line in f:\n",
        "            parts = line.strip().split(',')\n",
        "            triplets.append((\n",
        "                parts[0].strip(),  # streetview\n",
        "                parts[1].strip(),  # polar aerial\n",
        "                parts[2].strip()   # polar seg\n",
        "            ))\n",
        "    return triplets\n",
        "\n",
        "\n",
        "dataset_dir = \"/content/drive/MyDrive/CVUSA_subset/\""
      ],
      "metadata": {
        "id": "m_aCAThgOkGx"
      },
      "id": "m_aCAThgOkGx",
      "execution_count": 11,
      "outputs": []
    },
    {
      "cell_type": "code",
      "source": [
        "train_triplets = read_triplets_csv(\"/content/drive/MyDrive/CVUSA_subset/train.csv\")\n",
        "train_triplets, val_triplets = train_test_split(train_triplets, test_size=0.15, random_state=19)  # training/validation set\n",
        "test_triplets = read_triplets_csv(\"/content/drive/MyDrive/CVUSA_subset/val.csv\")        # test set"
      ],
      "metadata": {
        "id": "tZ_Vly45OidW"
      },
      "id": "tZ_Vly45OidW",
      "execution_count": 12,
      "outputs": []
    },
    {
      "cell_type": "code",
      "source": [
        "BATCH_SIZE = 8\n",
        "\n",
        "train_dataset = CVUSADataset(dataset_dir, train_triplets, train=True, add_dir=\"train_set\")\n",
        "val_dataset = CVUSADataset(dataset_dir, val_triplets, add_dir=\"val_set\")\n",
        "test_dataset = CVUSADataset(dataset_dir, test_triplets, add_dir=\"test_set\")\n",
        "\n",
        "train_loader = DataLoader(train_dataset, batch_size=BATCH_SIZE, shuffle=True,drop_last=True)\n",
        "val_loader = DataLoader(val_dataset, batch_size=BATCH_SIZE, shuffle=False,drop_last=True)\n",
        "test_loader = DataLoader(test_dataset, batch_size=BATCH_SIZE, shuffle=False,drop_last=True)"
      ],
      "metadata": {
        "id": "1KL4zwL_Iwn0"
      },
      "id": "1KL4zwL_Iwn0",
      "execution_count": 13,
      "outputs": []
    },
    {
      "cell_type": "markdown",
      "source": [
        "## Auxiliary module\n",
        "\n",
        "\n",
        "\n"
      ],
      "metadata": {
        "id": "_sq8DvrMtiCA"
      },
      "id": "_sq8DvrMtiCA"
    },
    {
      "cell_type": "code",
      "source": [
        "class Identity(nn.Module):\n",
        "    def __init__(self):\n",
        "        super().__init__()\n",
        "\n",
        "    def forward(self, x):\n",
        "        return x"
      ],
      "metadata": {
        "id": "uWBOiSCethXl"
      },
      "id": "uWBOiSCethXl",
      "execution_count": 14,
      "outputs": []
    },
    {
      "cell_type": "markdown",
      "id": "HZkhPctO10SQ",
      "metadata": {
        "id": "HZkhPctO10SQ"
      },
      "source": [
        "## Upper Branch"
      ]
    },
    {
      "cell_type": "markdown",
      "source": [
        "### simplified version"
      ],
      "metadata": {
        "id": "RUiAvU-06beH"
      },
      "id": "RUiAvU-06beH"
    },
    {
      "cell_type": "code",
      "execution_count": null,
      "id": "sOJU_2qUHgSo",
      "metadata": {
        "id": "sOJU_2qUHgSo"
      },
      "outputs": [],
      "source": [
        "class GroundBranchSim(nn.Module):\n",
        "  def __init__(self, use_seg=False):\n",
        "    super().__init__()\n",
        "\n",
        "    self.use_seg = use_seg\n",
        "\n",
        "    self.vgg1 = models.vgg16(weights=models.VGG16_Weights.DEFAULT)\n",
        "    self.vgg2 = models.vgg16(weights=models.VGG16_Weights.DEFAULT)\n",
        "\n",
        "    # Freezing initial layers for finetuning\n",
        "    for param1, param2 in zip(self.vgg1.features.parameters(), self.vgg2.features.parameters()):#, self.vgg1.features.parameters()):\n",
        "      param1.requires_grad = False\n",
        "      param2.requires_grad = False\n",
        "\n",
        "    # If needed can modify size of final output...\n",
        "    #self.vgg1.classifier[6] = nn.Linear(model.classifier[6].in_features, num_classes)\n",
        "    #self.vgg2.classifier[6] = nn.Linear(model.classifier[6].in_features, num_classes)\n",
        "\n",
        "    # Modify size of input\n",
        "    self.vgg1.features[0] = nn.Conv2d(\n",
        "        1, # This may need to be 3...\n",
        "        64,\n",
        "        kernel_size=3,\n",
        "        padding=1\n",
        "    )\n",
        "    # Initiate weights\n",
        "    nn.init.kaiming_normal_(self.vgg1.features[0].weight)\n",
        "\n",
        "    # Feed Forward Network turns output of VGG into embedding # TODO: decide final size...\n",
        "    self.FNN = nn.Sequential(\n",
        "      nn.Linear(1000, 1024),\n",
        "      nn.LayerNorm(1024),\n",
        "      nn.ReLU(),\n",
        "\n",
        "      nn.Linear(1024, 512)\n",
        "    )\n",
        "\n",
        "  def forward(self, ground_view):\n",
        "    x_ground = self.vgg2(ground_view)\n",
        "\n",
        "    x = x_ground\n",
        "\n",
        "    x = self.FNN(x)\n",
        "\n",
        "    return x"
      ]
    },
    {
      "cell_type": "markdown",
      "source": [
        "### amplified version"
      ],
      "metadata": {
        "id": "XZz-LuaU85cV"
      },
      "id": "XZz-LuaU85cV"
    },
    {
      "cell_type": "code",
      "execution_count": 15,
      "metadata": {
        "id": "IYGaGGSI9IvM"
      },
      "outputs": [],
      "source": [
        "class GroundBranch(nn.Module):\n",
        "  def __init__(self, use_seg=False):\n",
        "    super().__init__()\n",
        "\n",
        "    self.use_seg = use_seg\n",
        "\n",
        "    self.vgg1 = models.vgg16(weights=models.VGG16_Weights.DEFAULT)\n",
        "\n",
        "    # Freezing first five conv layers for finetuning\n",
        "    for n, param1 in enumerate(self.vgg1.features.parameters()):\n",
        "      if n >=6:\n",
        "        break\n",
        "      param1.requires_grad = False\n",
        "\n",
        "    # If needed can modify size of final output...\n",
        "    #self.vgg1.classifier[6] = nn.Linear(model.classifier[6].in_features, num_classes)\n",
        "    #self.vgg2.classifier[6] = nn.Linear(model.classifier[6].in_features, num_classes)\n",
        "    # Remove fully connected layer\n",
        "    self.vgg1.classifier = nn.Sequential(Identity())\n",
        "\n",
        "    self.conv = nn.Conv2d(512,512,1)\n",
        "    self.sigma = nn.Sigmoid()\n",
        "    self.GAP = nn.AdaptiveAvgPool2d((1,1))\n",
        "\n",
        "    # Feed Forward Network turns output of VGG into embedding # TODO: decide final size...\n",
        "    self.FNN = nn.Sequential(\n",
        "      nn.Linear(512, 1024),\n",
        "      nn.LayerNorm(1024),\n",
        "      nn.ReLU(),\n",
        "\n",
        "      nn.Linear(1024, 512)\n",
        "    )\n",
        "\n",
        "  def forward(self, ground_view):\n",
        "    x_ground = self.vgg1(ground_view).view(-1,512,7,7)\n",
        "\n",
        "    return x_ground\n",
        "    \"\"\"\n",
        "    x = self.GAP(x_ground)\n",
        "    x = x.view(x.shape[0], -1)\n",
        "\n",
        "    x = self.FNN(x)\n",
        "\n",
        "    return x\n",
        "    \"\"\""
      ],
      "id": "IYGaGGSI9IvM"
    },
    {
      "cell_type": "markdown",
      "id": "hDh1-Kx6HaDt",
      "metadata": {
        "id": "hDh1-Kx6HaDt"
      },
      "source": [
        "## Lower Branch"
      ]
    },
    {
      "cell_type": "markdown",
      "source": [
        "### simplified version"
      ],
      "metadata": {
        "id": "sLDBkPz76VnM"
      },
      "id": "sLDBkPz76VnM"
    },
    {
      "cell_type": "code",
      "execution_count": null,
      "id": "ZGMfYo512Bz9",
      "metadata": {
        "id": "ZGMfYo512Bz9"
      },
      "outputs": [],
      "source": [
        "class AerialBranchSim(nn.Module):\n",
        "  def __init__(self):\n",
        "    super().__init__()\n",
        "\n",
        "    self.vgg1 = models.vgg16(weights=models.VGG16_Weights.DEFAULT)\n",
        "    self.vgg2 = models.vgg16(weights=models.VGG16_Weights.DEFAULT)\n",
        "\n",
        "    # Freezing initial layers for finetuning\n",
        "    for param1, param2 in zip(self.vgg1.features.parameters(), self.vgg2.features.parameters()):\n",
        "      param1.requires_grad = False\n",
        "      param2.requires_grad = False\n",
        "\n",
        "    # Modify size of input\n",
        "    self.vgg1.features[0] = nn.Conv2d(\n",
        "        1,\n",
        "        64,\n",
        "        kernel_size=3,\n",
        "        padding=1\n",
        "    )\n",
        "    # Initiate weights\n",
        "    nn.init.kaiming_normal_(self.vgg1.features[0].weight)\n",
        "\n",
        "\n",
        "    # If needed can modify size of final output...\n",
        "    #self.vgg1.classifier[6] = nn.Linear(model.classifier[6].in_features, num_classes)\n",
        "    #self.vgg2.classifier[6] = nn.Linear(model.classifier[6].in_features, num_classes)\n",
        "\n",
        "    # Feed Forward Network turns output of VGG into embedding # TODO: decide final size...\n",
        "    self.FNN = nn.Sequential(\n",
        "        nn.Linear(3000, 2048),\n",
        "        nn.LayerNorm(2048),\n",
        "        nn.ReLU(),\n",
        "\n",
        "        nn.Linear(2048, 1024),\n",
        "        nn.LayerNorm(1024),\n",
        "        nn.ReLU(),\n",
        "\n",
        "        nn.Linear(1024, 512)\n",
        "    )\n",
        "\n",
        "  def forward(self, synthetic_aerial, segmented_aerial, candidate_aerial):\n",
        "\n",
        "    x_segmented = self.vgg1(segmented_aerial)\n",
        "    x_synthetic = self.vgg2(synthetic_aerial)\n",
        "    x_candidate = self.vgg2(candidate_aerial)\n",
        "\n",
        "    x = torch.cat((x_synthetic, x_segmented, x_candidate), dim=-1)\n",
        "    x = self.FNN(x)\n",
        "\n",
        "    return x"
      ]
    },
    {
      "cell_type": "markdown",
      "source": [
        "### amplified version"
      ],
      "metadata": {
        "id": "iAq7RVvR8-I3"
      },
      "id": "iAq7RVvR8-I3"
    },
    {
      "cell_type": "code",
      "execution_count": 16,
      "metadata": {
        "id": "rdlUnPCF9E76"
      },
      "outputs": [],
      "source": [
        "class AerialBranch(nn.Module):\n",
        "  def __init__(self):\n",
        "    super().__init__()\n",
        "\n",
        "    self.vgg1 = models.vgg16(weights=models.VGG16_Weights.DEFAULT)\n",
        "    self.vgg2 = models.vgg16(weights=models.VGG16_Weights.DEFAULT)\n",
        "\n",
        "    # Freezing initial layers for finetuning\n",
        "    for n, (param1, param2) in enumerate(zip(self.vgg1.features.parameters(), self.vgg2.features.parameters())):\n",
        "      if n >=6:\n",
        "        break\n",
        "      param1.requires_grad = False\n",
        "      param2.requires_grad = False\n",
        "\n",
        "    # Modify size of input\n",
        "    self.vgg1.features[0] = nn.Conv2d(\n",
        "        1,\n",
        "        64,\n",
        "        kernel_size=3,\n",
        "        padding=1\n",
        "    )\n",
        "    # Initiate weights\n",
        "    nn.init.kaiming_normal_(self.vgg1.features[0].weight)\n",
        "\n",
        "    # If needed can modify size of final output...\n",
        "    #self.vgg1.classifier[6] = nn.Linear(model.classifier[6].in_features, num_classes)\n",
        "    #self.vgg2.classifier[6] = nn.Linear(model.classifier[6].in_features, num_classes)\n",
        "    # Remove fully connected layer\n",
        "    self.vgg1.classifier = nn.Sequential(Identity())\n",
        "    self.vgg2.classifier = nn.Sequential(Identity())\n",
        "\n",
        "    self.conv = nn.Conv2d(512,512,1)\n",
        "    self.sigma = nn.Sigmoid()\n",
        "    self.GAP = nn.AdaptiveAvgPool2d((1,1))\n",
        "\n",
        "    # Feed Forward Network turns output of VGG into embedding # TODO: decide final size...\n",
        "    self.FNN = nn.Sequential(\n",
        "        nn.Linear(1536, 1024),\n",
        "        nn.LayerNorm(1024),\n",
        "        nn.ReLU(),\n",
        "\n",
        "        nn.Linear(1024, 512)\n",
        "    )\n",
        "\n",
        "  def forward(self, synthetic_aerial, segmented_aerial, candidate_aerial):\n",
        "\n",
        "    segmented_aerial = segmented_aerial.reshape(8,1,224,224) if segmented_aerial.shape[0] == 8 else segmented_aerial\n",
        "    x_segmented = self.vgg1(segmented_aerial).view(-1,512,7,7)\n",
        "    x_synthetic = self.vgg2(synthetic_aerial).view(-1,512,7,7)\n",
        "    x_candidate = self.vgg2(candidate_aerial).view(-1,512,7,7)\n",
        "\n",
        "    mask = self.conv(x_segmented)\n",
        "\n",
        "    x_candidate *= mask\n",
        "    x_synthetic *= mask\n",
        "\n",
        "    x_candidate = self.GAP(x_candidate)\n",
        "    x_candidate = x_candidate.view(x_candidate.shape[0], -1)\n",
        "    x_synthetic = self.GAP(x_synthetic)\n",
        "    x_synthetic = x_synthetic.view(x_synthetic.shape[0], -1)\n",
        "    x_segmented = self.GAP(x_segmented)\n",
        "    x_segmented = x_segmented.view(x_segmented.shape[0], -1)\n",
        "\n",
        "    x = torch.cat((x_synthetic, x_segmented, x_candidate), dim=-1)\n",
        "    x = self.FNN(x)\n",
        "\n",
        "    return x"
      ],
      "id": "rdlUnPCF9E76"
    },
    {
      "cell_type": "markdown",
      "id": "1b6MaaxAMktk",
      "metadata": {
        "id": "1b6MaaxAMktk"
      },
      "source": [
        "## Complete Network"
      ]
    },
    {
      "cell_type": "code",
      "execution_count": 17,
      "id": "L-rqm6NRM1RJ",
      "metadata": {
        "id": "L-rqm6NRM1RJ"
      },
      "outputs": [],
      "source": [
        "class CompNet(nn.Module):\n",
        "  def __init__(self, ground_branch=GroundBranch(), aerial_branch=AerialBranch()):\n",
        "    super().__init__()\n",
        "    self.GB = ground_branch\n",
        "    self.AB = aerial_branch\n",
        "\n",
        "  def forward(self, ground_view, synthetic_aerial, segmented_aerial, candidate_aerial):\n",
        "    return self.GB(ground_view), self.AB(synthetic_aerial, segmented_aerial, candidate_aerial)"
      ]
    },
    {
      "cell_type": "markdown",
      "source": [
        "### Triplet Loss"
      ],
      "metadata": {
        "id": "vihKxJ9uAEoi"
      },
      "id": "vihKxJ9uAEoi"
    },
    {
      "cell_type": "code",
      "execution_count": 18,
      "id": "HwWxmTnMCkrZ",
      "metadata": {
        "id": "HwWxmTnMCkrZ"
      },
      "outputs": [],
      "source": [
        "class WeightedSoftMarginTripletLoss(nn.Module):\n",
        "  def __init__(self, margin=0.2):\n",
        "    super().__init__()\n",
        "    self.margin = margin\n",
        "\n",
        "  def forward(self, anchor, positive, negative):\n",
        "\n",
        "    first = torch.norm(anchor - positive, dim=-1, keepdim=True)\n",
        "    second = -torch.norm(anchor - negative, dim=-1, keepdim=True)\n",
        "    arg = self.margin * (second+first)\n",
        "    const = torch.zeros((arg.shape[0],1))\n",
        "    arg = torch.cat((const,arg), dim=-1)\n",
        "\n",
        "    return torch.logsumexp(arg, dim=-1).mean()\n"
      ]
    },
    {
      "cell_type": "markdown",
      "source": [
        "### Lightning Wrapper"
      ],
      "metadata": {
        "id": "snx0EH97-CBn"
      },
      "id": "snx0EH97-CBn"
    },
    {
      "cell_type": "code",
      "source": [
        "class LightningWrapper(pylight.LightningModule):\n",
        "  def __init__(self, device, model=CompNet()):\n",
        "    super().__init__()\n",
        "    self.dvc=device\n",
        "\n",
        "    self.model=model\n",
        "    self.criterion=WeightedSoftMarginTripletLoss()\n",
        "\n",
        "    self.mask = mask = torch.ones((8,8), requires_grad=False)-torch.eye(8, requires_grad=False)\n",
        "\n",
        "  def forward(self, ground_view, synthetic_aerial, segmented_aerial, candidate_aerial):\n",
        "    return self.model(ground_view, synthetic_aerial, segmented_aerial, candidate_aerial)\n",
        "\n",
        "  def training_step(self, batch, batch_idx):\n",
        "    ground, aerial, synthetic_aerial, segmented_aerial = batch\n",
        "\n",
        "    ground = ground.to(self.dvc)\n",
        "    aerial = aerial.to(self.dvc)\n",
        "    synthetic_aerial = synthetic_aerial.to(self.dvc)\n",
        "    segmented_aerial =  segmented_aerial.to(self.dvc)\n",
        "\n",
        "    # Forward pass\n",
        "    labels, predictions = model( ground, synthetic_aerial, segmented_aerial, aerial)\n",
        "\n",
        "    with torch.no_grad():\n",
        "      embs = labels.view(labels.shape[0],-1)\n",
        "      embs = F.normalize(embs,dim = -1)\n",
        "      embs = embs @ embs.T * self.mask\n",
        "\n",
        "    labels = self.model.GB.GAP(labels)\n",
        "    labels = labels.view(labels.shape[0],-1)\n",
        "    labels = self.model.GB.FNN(labels)\n",
        "\n",
        "    batch_size = len(predictions)\n",
        "\n",
        "    neg_list = []\n",
        "\n",
        "    # Find closest (hard) negative in batch\n",
        "    closest_idx = torch.argmax(embs, dim=1)\n",
        "    negatives = self.model.AB(synthetic_aerial,segmented_aerial,aerial[closest_idx,:,:])\n",
        "    anchors = labels\n",
        "    positives = predictions\n",
        "\n",
        "    # Sanity check\n",
        "    if negatives.shape[0] != batch_size:\n",
        "      print(\"Not Sane\")\n",
        "\n",
        "    loss = self.criterion(anchors, positives, negatives)\n",
        "    self.log(\"train_loss\", loss, prog_bar=True)\n",
        "    return loss\n",
        "\n",
        "  def validation_step(self, batch, batch_idx):\n",
        "    ground, aerial, synthetic_aerial, segmented_aerial = batch\n",
        "\n",
        "    ground = ground.to(self.dvc)\n",
        "    aerial = aerial.to(self.dvc)\n",
        "    synthetic_aerial = synthetic_aerial.to(self.dvc)\n",
        "    segmented_aerial =  segmented_aerial.to(self.dvc)\n",
        "\n",
        "    # Forward pass\n",
        "    labels, predictions = model( ground, synthetic_aerial, segmented_aerial, aerial)\n",
        "\n",
        "    with torch.no_grad():\n",
        "      embs = labels.view(labels.shape[0],-1)\n",
        "      embs = F.normalize(embs,dim = -1)\n",
        "      embs = embs @ embs.T * self.mask\n",
        "\n",
        "    labels = self.model.GB.GAP(labels)\n",
        "    labels = labels.view(labels.shape[0],-1)\n",
        "    labels = self.model.GB.FNN(labels)\n",
        "\n",
        "    batch_size = len(predictions)\n",
        "\n",
        "    neg_list = []\n",
        "\n",
        "    # Find closest (hard) negative in batch\n",
        "    closest_idx = torch.argmax(embs, dim=1)\n",
        "    negatives = self.model.AB(synthetic_aerial,segmented_aerial,aerial[closest_idx,:,:])\n",
        "    anchors = labels\n",
        "    positives = predictions\n",
        "\n",
        "    # Sanity check\n",
        "    if negatives.shape[0] != batch_size:\n",
        "      print(\"Not Sane\")\n",
        "\n",
        "    loss = self.criterion(anchors, positives, negatives)\n",
        "    self.log(\"val_loss\", loss, prog_bar=True)\n",
        "    return {\"val_loss\":loss}\n",
        "\n",
        "  def configure_optimizers(self):\n",
        "    optimizer = torch.optim.AdamW(self.model.parameters(), lr=1e-3, weight_decay=0.01)\n",
        "    scheduler = torch.optim.lr_scheduler.CosineAnnealingLR(optimizer, T_max=100)\n",
        "    return {\"optimizer\":optimizer, \"lr_scheduler\":scheduler}"
      ],
      "metadata": {
        "id": "SpHllGG6-HQU"
      },
      "id": "SpHllGG6-HQU",
      "execution_count": 19,
      "outputs": []
    },
    {
      "cell_type": "markdown",
      "id": "KiKP8hBywFAV",
      "metadata": {
        "id": "KiKP8hBywFAV"
      },
      "source": [
        "### Training"
      ]
    },
    {
      "cell_type": "markdown",
      "source": [
        "### No Lightning"
      ],
      "metadata": {
        "id": "CpjTIyJaGnS8"
      },
      "id": "CpjTIyJaGnS8"
    },
    {
      "cell_type": "code",
      "execution_count": null,
      "id": "hmwUIftSwEWI",
      "metadata": {
        "id": "hmwUIftSwEWI"
      },
      "outputs": [],
      "source": [
        "def train_epoch(model, dataloader, optimizer, criterion=WeightedSoftMarginTripletLoss(), scheduler=None):\n",
        "    model.train()\n",
        "    tot_loss = 0.0\n",
        "\n",
        "    for ground, aerial, segmented_ground, synthetic_aerial, segmented_aerial in dataloader:\n",
        "      ground = ground.to(device)\n",
        "      aerial = aerial.to(device)\n",
        "      segmented_ground = segmented_ground.to(device)\n",
        "      synthetic_aerial = synthetic_aerial.to(device)\n",
        "      segmented_aerial =  segmented_aerial.to(device)\n",
        "\n",
        "      # Forward pass\n",
        "      optimizer.zero_grad()       # resets gradients from previous batch\n",
        "      labels, predictions = model( ground, segmented_ground, synthetic_aerial, segmented_aerial, aerial)\n",
        "      #print(aerial_pred.shape)\n",
        "\n",
        "      batch_size = len(labels)\n",
        "      batch_loss = 0.0\n",
        "\n",
        "      for i in range(batch_size):\n",
        "        indeces = range(batch_size)\n",
        "        indeces.pop(i)\n",
        "        anchor = labels[i]\n",
        "        positive = predictions[i]\n",
        "        negatives = predictions(indeces)\n",
        "\n",
        "        # Sanity check\n",
        "        if negatives.shape[0] != batch_size-1:\n",
        "          print(\"AAAAAAAAAAAAAAAAAAAAAAAAAAAAAAAA\")\n",
        "\n",
        "        batch_loss += criterion(anchor, positive, negatives)\n",
        "        #Backward pass\n",
        "      batch_loss.backward()         # computes gradients via backpropagation\n",
        "      optimizer.step()        # updates weights using gradients\n",
        "      #scheduler.step()    # adjusts learning rate after each epoch\n",
        "\n",
        "\n",
        "      tot_loss += batch_loss.item()/batch_size\n",
        "\n",
        "    return tot_loss / len(dataloader)\n",
        "\n",
        "def evaluate(model, dataloader, device, criterion=WeightedSoftMarginTripletLoss()):\n",
        "  model.eval()\n",
        "  total_loss = 0.0\n",
        "\n",
        "  with torch.no_grad():\n",
        "    tot_loss = 0.0\n",
        "\n",
        "    for ground, aerial, segmented_ground, synthetic_aerial, segmented_aerial in dataloader:\n",
        "      ground = ground.to(device)\n",
        "      aerial = aerial.to(device)\n",
        "      segmented_ground = segmented_ground.to(device)\n",
        "      synthetic_aerial = synthetic_aerial.to(device)\n",
        "      segmented_aerial =  segmented_aerial.to(device)\n",
        "\n",
        "      # Forward pass\n",
        "      labels, predictions = model( ground, segmented_ground, synthetic_aerial, segmented_aerial, aerial)\n",
        "      #print(aerial_pred.shape)\n",
        "\n",
        "      batch_size = len(labels)\n",
        "      batch_loss = 0.0\n",
        "\n",
        "      for i in range(batch_size):\n",
        "        indeces = range(batch_size)\n",
        "        indeces.pop(i)\n",
        "        anchor = labels[i]\n",
        "        positive = predictions[i]\n",
        "        negatives = predictions(indeces)\n",
        "\n",
        "        # Sanity check\n",
        "        if negatives.shape[0] != batch_size-1:\n",
        "          print(\"AAAAAAAAAAAAAAAAAAAAAAAAAAAAAAAA\")\n",
        "\n",
        "        batch_loss += criterion(anchor, positive, negatives)\n",
        "\n",
        "      tot_loss += batch_loss.item()/batch_size\n",
        "\n",
        "    return tot_loss / len(dataloader)"
      ]
    },
    {
      "cell_type": "code",
      "source": [
        "model = CompNet()"
      ],
      "metadata": {
        "id": "Did9uvdgJ8-s"
      },
      "id": "Did9uvdgJ8-s",
      "execution_count": null,
      "outputs": []
    },
    {
      "cell_type": "code",
      "execution_count": null,
      "id": "hwFdbzaf2xDH",
      "metadata": {
        "id": "hwFdbzaf2xDH"
      },
      "outputs": [],
      "source": [
        "# Main training\n",
        "num_epochs = 1\n",
        "for epoch in range(num_epochs):\n",
        "    train_loss = train_epoch(model, train_loader, optimizer, device)\n",
        "    val_loss = evaluate(model, val_loader, device)\n",
        "\n",
        "    print(f\"Epoch {epoch+1}/{num_epochs}\")\n",
        "    print(f\"\\tTrain Loss: {train_loss:.4f} | Val Loss: {val_loss:.4f}\")\n",
        "\n",
        "    # Save checkpoint\n",
        "    if (epoch+1) % 5 == 0:\n",
        "        torch.save(model.state_dict(), f\"model_epoch_{epoch+1}.pth\")"
      ]
    },
    {
      "cell_type": "markdown",
      "source": [
        "### Yes Lightning"
      ],
      "metadata": {
        "id": "ln5sHOU9GrR6"
      },
      "id": "ln5sHOU9GrR6"
    },
    {
      "cell_type": "code",
      "source": [
        "model = LightningWrapper(device).to(device)\n",
        "\n",
        "log_path = \"/content/drive/MyDrive/SavedModels/CV/first_attempt\"\n",
        "ckpt_path = log_path+\"checkpoints\"\n",
        "\n",
        "EPOCHS = 100\n",
        "\n",
        "checkpoint_callback = ModelCheckpoint(\n",
        "    dirpath=ckpt_path,\n",
        "    filename=\"best-checkpoint-{epoch:02d}-{val_loss:-2f}\",\n",
        "    save_top_k=2,\n",
        "    verbose=True,\n",
        "    monitor=\"val_loss\",\n",
        "    mode=\"min\",\n",
        "    save_last=True,\n",
        "    every_n_epochs=5\n",
        ")\n",
        "\n",
        "trainer = Trainer(\n",
        "    enable_checkpointing=True,\n",
        "    default_root_dir=log_path,\n",
        "    callbacks=[checkpoint_callback],\n",
        "    enable_progress_bar=True,\n",
        "    max_time = {\"hours\":8}\n",
        ")\n",
        "\n",
        "trainer.fit(model, train_dataloaders=train_loader, val_dataloaders=val_loader, ckpt_path=None)"
      ],
      "metadata": {
        "id": "Ljm3VrUTGqk1"
      },
      "id": "Ljm3VrUTGqk1",
      "execution_count": null,
      "outputs": []
    },
    {
      "cell_type": "markdown",
      "source": [
        "## TEST"
      ],
      "metadata": {
        "id": "16PMzk8s8xt8"
      },
      "id": "16PMzk8s8xt8"
    }
  ],
  "metadata": {
    "colab": {
      "provenance": [],
      "collapsed_sections": [
        "RUiAvU-06beH",
        "sLDBkPz76VnM",
        "CpjTIyJaGnS8"
      ]
    },
    "kernelspec": {
      "display_name": "Python 3",
      "name": "python3"
    },
    "language_info": {
      "codemirror_mode": {
        "name": "ipython",
        "version": 3
      },
      "file_extension": ".py",
      "mimetype": "text/x-python",
      "name": "python",
      "nbconvert_exporter": "python",
      "pygments_lexer": "ipython3",
      "version": "3.10.12"
    }
  },
  "nbformat": 4,
  "nbformat_minor": 5
}